{
 "cells": [
  {
   "cell_type": "code",
   "execution_count": 1,
   "id": "1b981dfc-5ff7-4bfe-b3fc-a703723cc2b0",
   "metadata": {},
   "outputs": [
    {
     "name": "stdout",
     "output_type": "stream",
     "text": [
      "Library versions have been written to requirements_with_versions.txt\n"
     ]
    }
   ],
   "source": [
    "import pkg_resources\n",
    "\n",
    "# Input file with library names (without versions)\n",
    "input_file = 'libraries.txt'\n",
    "# Output file with library names and their versions\n",
    "output_file = 'requirements_with_versions.txt'\n",
    "\n",
    "# Read the library names from the input file\n",
    "with open(input_file, 'r') as file:\n",
    "    libraries = [line.strip() for line in file.readlines()]\n",
    "\n",
    "# Open the output file to write the libraries and their versions\n",
    "with open(output_file, 'w') as output:\n",
    "    for lib in libraries:\n",
    "        try:\n",
    "            # Get the installed version of the library\n",
    "            version = pkg_resources.get_distribution(lib).version\n",
    "            # Write the library and its version to the output file\n",
    "            output.write(f'{lib}=={version}\\n')\n",
    "        except pkg_resources.DistributionNotFound:\n",
    "            # If the library is not found, print an error message\n",
    "            output.write(f'{lib}==<NOT INSTALLED>\\n')\n",
    "            print(f'Library \"{lib}\" is not installed.')\n",
    "\n",
    "print(f\"Library versions have been written to {output_file}\")\n"
   ]
  },
  {
   "cell_type": "code",
   "execution_count": 2,
   "id": "5ae11d21-6d7d-46d1-a7ec-a0b86fb3b2de",
   "metadata": {},
   "outputs": [],
   "source": [
    "def extractVersion():\n",
    "    import pkg_resources\n",
    "\n",
    "    # Input file with library names (without versions)\n",
    "    input_file = 'libraries.txt'\n",
    "    # Output file with library names and their versions\n",
    "    output_file = 'requirements.txt'\n",
    "    \n",
    "    # Read the library names from the input file\n",
    "    with open(input_file, 'r') as file:\n",
    "        libraries = [line.strip() for line in file.readlines()]\n",
    "    \n",
    "    # Open the output file to write the libraries and their versions\n",
    "    with open(output_file, 'w') as output:\n",
    "        for lib in libraries:\n",
    "            try:\n",
    "                # Get the installed version of the library\n",
    "                version = pkg_resources.get_distribution(lib).version\n",
    "                # Write the library and its version to the output file\n",
    "                output.write(f'{lib}=={version}\\n')\n",
    "            except pkg_resources.DistributionNotFound:\n",
    "                # If the library is not found, print an error message\n",
    "                output.write(f'{lib}==<NOT INSTALLED>\\n')\n",
    "                print(f'Library \"{lib}\" is not installed.')\n",
    "    \n",
    "    print(f\"Library versions have been written to {output_file}\")"
   ]
  },
  {
   "cell_type": "code",
   "execution_count": 3,
   "id": "b9b2b2f7-157e-4b55-8e51-c0a759008a76",
   "metadata": {},
   "outputs": [
    {
     "name": "stdout",
     "output_type": "stream",
     "text": [
      "Library versions have been written to requirements.txt\n"
     ]
    }
   ],
   "source": [
    "extractVersion()"
   ]
  },
  {
   "cell_type": "code",
   "execution_count": null,
   "id": "bc4b1f05-36f6-488d-b997-77ad08bf1cb0",
   "metadata": {},
   "outputs": [],
   "source": []
  }
 ],
 "metadata": {
  "kernelspec": {
   "display_name": "Python 3 (ipykernel)",
   "language": "python",
   "name": "python3"
  },
  "language_info": {
   "codemirror_mode": {
    "name": "ipython",
    "version": 3
   },
   "file_extension": ".py",
   "mimetype": "text/x-python",
   "name": "python",
   "nbconvert_exporter": "python",
   "pygments_lexer": "ipython3",
   "version": "3.12.4"
  }
 },
 "nbformat": 4,
 "nbformat_minor": 5
}
